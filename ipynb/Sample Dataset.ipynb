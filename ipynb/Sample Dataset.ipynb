{
 "cells": [
  {
   "cell_type": "code",
   "execution_count": null,
   "id": "536f6fb6",
   "metadata": {},
   "outputs": [],
   "source": [
    "# python imports\n",
    "from math import ceil\n",
    "from datetime import datetime\n",
    "\n",
    "# third-party\n",
    "import pandas as pd\n",
    "import numpy as np\n",
    "import matplotlib.pyplot as plt"
   ]
  },
  {
   "cell_type": "code",
   "execution_count": null,
   "id": "3b04a1b9",
   "metadata": {},
   "outputs": [],
   "source": [
    "# hide warnings\n",
    "import warnings\n",
    "warnings.filterwarnings('ignore')"
   ]
  },
  {
   "cell_type": "markdown",
   "id": "7c3817ae",
   "metadata": {},
   "source": [
    "# Read & Prep Dataset"
   ]
  },
  {
   "cell_type": "code",
   "execution_count": null,
   "id": "470c8c10",
   "metadata": {},
   "outputs": [],
   "source": [
    "vulns = pd.read_csv('../output/vulns-labelled.csv', low_memory=False)"
   ]
  },
  {
   "cell_type": "code",
   "execution_count": null,
   "id": "1d0628c0",
   "metadata": {},
   "outputs": [],
   "source": [
    "vulns.info()"
   ]
  },
  {
   "cell_type": "code",
   "execution_count": null,
   "id": "d224e7e9",
   "metadata": {},
   "outputs": [],
   "source": [
    "vulns['cve_published_date'] =\\\n",
    "    pd.to_datetime(vulns['cve_published_date'], format='%Y-%m-%d', errors='coerce')\n",
    "\n",
    "vulns['exploit_published_date'] =\\\n",
    "    pd.to_datetime(vulns['exploit_published_date'], format='%Y-%m-%d', errors='coerce')"
   ]
  },
  {
   "cell_type": "code",
   "execution_count": null,
   "id": "6687720c",
   "metadata": {},
   "outputs": [],
   "source": [
    "vulns['exploitable'] = vulns['exploit_count'].apply(lambda value: 1 if value > 0 else 0)"
   ]
  },
  {
   "cell_type": "code",
   "execution_count": null,
   "id": "a6486373",
   "metadata": {},
   "outputs": [],
   "source": [
    "conditions = [\n",
    "    ((vulns['base_score'] <= 3.9 )),\n",
    "    ((vulns['base_score'] >= 4.0) & (vulns['base_score'] <= 6.9)),\n",
    "    ((vulns['base_score'] >= 7.0) & (vulns['base_score'] <= 8.9)),\n",
    "    ((vulns['base_score'] >= 9.0))    \n",
    "]\n",
    "\n",
    "choices = ['LOW', 'MEDIUM', 'HIGH', 'CRITICAL']\n",
    "\n",
    "vulns['base_severity'] = np.select(conditions, choices, default='OTHER')\n",
    "vulns['base_severity'] = pd.Categorical(vulns.base_severity, categories=choices, ordered=True)"
   ]
  },
  {
   "cell_type": "code",
   "execution_count": null,
   "id": "57a03844",
   "metadata": {},
   "outputs": [],
   "source": [
    "# transforming columns in lists\n",
    "vulns['part'] = vulns['part'].apply(eval)\n",
    "vulns['vendor'] = vulns['vendor'].apply(eval)"
   ]
  },
  {
   "cell_type": "markdown",
   "id": "7b27f3de",
   "metadata": {},
   "source": [
    "# Utils"
   ]
  },
  {
   "cell_type": "code",
   "execution_count": null,
   "id": "a9fae033",
   "metadata": {},
   "outputs": [],
   "source": [
    "def to_1D(series):\n",
    "     return pd.Series([x for _list in series for x in _list])"
   ]
  },
  {
   "cell_type": "markdown",
   "id": "99b8cf81",
   "metadata": {},
   "source": [
    "## Vulns year distribution"
   ]
  },
  {
   "cell_type": "code",
   "execution_count": null,
   "id": "6ec6c1c6",
   "metadata": {},
   "outputs": [],
   "source": [
    "plotdata = vulns.groupby(vulns['cve_published_date'].dt.year, sort=True)['cve_id'].count()\n",
    "plotdata.plot(kind='bar', title='Vulnerabilities by Year', xlabel='', ylabel='', rot=45)"
   ]
  },
  {
   "cell_type": "markdown",
   "id": "29853673",
   "metadata": {},
   "source": [
    "## Part distribution"
   ]
  },
  {
   "cell_type": "code",
   "execution_count": null,
   "id": "4e813a26",
   "metadata": {},
   "outputs": [],
   "source": [
    "fig, ax = plt.subplots(figsize=(8, 4))\n",
    "\n",
    "part_counts = to_1D(vulns['part']).value_counts().values\n",
    "parts = [value / sum(part_counts) * 100 for value in part_counts]\n",
    "\n",
    "ax.bar(['aplication', 'operating\\n system', 'hardware'], parts)\n",
    "ax.set_ylabel(\"Proportion (%)\", size = 12)\n",
    "ax.set_title(\"Part Distribution\", size=14)\n",
    "\n",
    "plt.xticks(rotation=45)\n",
    "plt.show()"
   ]
  },
  {
   "cell_type": "markdown",
   "id": "928035e3",
   "metadata": {},
   "source": [
    "## Vendor distribution"
   ]
  },
  {
   "cell_type": "code",
   "execution_count": null,
   "id": "45ecdd09",
   "metadata": {},
   "outputs": [],
   "source": [
    "fig, ax = plt.subplots(figsize=(12, 4))\n",
    "\n",
    "vendor_counts = to_1D(vulns['vendor']).value_counts()[1:11]\n",
    "vendors = [value / sum(vendor_counts) * 100 for value in vendor_counts]\n",
    "\n",
    "ax.bar(vendor_counts.index, vendors)\n",
    "ax.set_ylabel(\"Proportion (%)\", size = 12)\n",
    "ax.set_title(\"Vendor Distribution\", size=14)\n",
    "\n",
    "plt.xticks(rotation=45)\n",
    "plt.show()"
   ]
  },
  {
   "cell_type": "markdown",
   "id": "db320cec",
   "metadata": {},
   "source": [
    "## CIA distribution"
   ]
  },
  {
   "cell_type": "code",
   "execution_count": null,
   "id": "aed89b8d",
   "metadata": {},
   "outputs": [],
   "source": [
    "fig, (ax1, ax2, ax3) = plt.subplots(1,3, figsize=(12, 4))\n",
    "\n",
    "ci_counts = vulns['confidentiality_impact'].value_counts().values\n",
    "cis = [value / sum(ci_counts) * 100 for value in ci_counts]\n",
    "\n",
    "ax1.bar(['HIGH', 'NONE', 'LOW'], cis)\n",
    "ax1.set_ylabel(\"Proportion (%)\", size = 12)\n",
    "ax1.set_title(\"Confidentiality Distribution\", size=14)\n",
    "\n",
    "ii_counts = vulns['integrity_impact'].value_counts().values\n",
    "iis = [value / sum(ii_counts) * 100 for value in ii_counts]\n",
    "\n",
    "ax2.bar(['HIGH', 'NONE', 'LOW'], iis)\n",
    "ax2.set_ylabel(\"Proportion (%)\", size = 12)\n",
    "ax2.set_title(\"Integrity Distribution\", size=14)\n",
    "\n",
    "ai_counts = vulns['availability_impact'].value_counts().values\n",
    "ais = [value / sum(ai_counts) * 100 for value in ai_counts]\n",
    "\n",
    "ax3.bar(['HIGH', 'NONE', 'LOW'], ais)\n",
    "ax3.set_ylabel(\"Proportion (%)\", size = 12)\n",
    "ax3.set_title(\"Availability Distribution\", size=14)\n",
    "\n",
    "plt.show()"
   ]
  },
  {
   "cell_type": "markdown",
   "id": "2cc9b355",
   "metadata": {},
   "source": [
    "## CVSS distribution"
   ]
  },
  {
   "cell_type": "code",
   "execution_count": null,
   "id": "9a1e451a",
   "metadata": {},
   "outputs": [],
   "source": [
    "fig, ax = plt.subplots(figsize=(6, 4))\n",
    "\n",
    "value_counts = vulns['base_severity'].value_counts().sort_index()\n",
    "values = [ value / sum(value_counts.values) for value in value_counts.values]\n",
    "\n",
    "colors = ['green', 'yellow', 'orange', 'red']\n",
    "\n",
    "ax.bar(value_counts.index, values, color=colors)\n",
    "ax.set_ylabel('Percentage (%)')\n",
    "ax.set_xlabel('Labels')\n",
    "\n",
    "plt.show()"
   ]
  },
  {
   "cell_type": "markdown",
   "id": "6ba7eea3",
   "metadata": {},
   "source": [
    "## Mitre and OWASP lists"
   ]
  },
  {
   "cell_type": "code",
   "execution_count": null,
   "id": "89802aac",
   "metadata": {},
   "outputs": [],
   "source": [
    "fig, (ax1, ax2) = plt.subplots(1,2, figsize=(12, 4))\n",
    "\n",
    "mitre_counts = vulns['mitre_top_25'].value_counts().values\n",
    "mitres = [value / sum(mitre_counts) * 100 for value in mitre_counts]\n",
    "\n",
    "ax1.bar(['In Mitre', 'Not in Mitre'], mitres)\n",
    "ax1.set_ylabel(\"Proportion (%)\", size = 12)\n",
    "ax1.set_title(\"Mitre top 25 Distribution\", size=14)\n",
    "\n",
    "owasp_counts = vulns['owasp_top_10'].value_counts().values\n",
    "owasps = [value / sum(owasp_counts) * 100 for value in owasp_counts]\n",
    "\n",
    "ax2.bar(['In OWASP', 'Not in OWASP'], owasps)\n",
    "ax2.set_ylabel(\"Proportion (%)\", size = 12)\n",
    "ax2.set_title(\"OWASP top 10 Distribution\", size=14)\n",
    "\n",
    "plt.show()"
   ]
  },
  {
   "cell_type": "markdown",
   "id": "e8586526",
   "metadata": {},
   "source": [
    "## Exploits per Year"
   ]
  },
  {
   "cell_type": "code",
   "execution_count": null,
   "id": "575d5d31",
   "metadata": {},
   "outputs": [],
   "source": [
    "fig, ax = plt.subplots(figsize=(8, 4))\n",
    "\n",
    "exploit_counts = vulns.groupby(vulns['exploit_published_date'].dt.year, sort=True)['cve_id'].count()\n",
    "exploits = [value / sum(exploit_counts.values) * 100 for value in exploit_counts.values]\n",
    "\n",
    "ax.bar(exploit_counts.index, exploits)\n",
    "ax.set_ylabel(\"Proportion (%)\", size = 12)\n",
    "ax.set_title(\"Exploits Distribution by Year\", size=14)\n",
    "\n",
    "plt.show()"
   ]
  },
  {
   "cell_type": "markdown",
   "id": "9bff72dd",
   "metadata": {},
   "source": [
    "## Exploitable Distribution"
   ]
  },
  {
   "cell_type": "code",
   "execution_count": null,
   "id": "142d70c6",
   "metadata": {},
   "outputs": [],
   "source": [
    "fig, ax = plt.subplots(figsize=(12, 4))\n",
    "\n",
    "values_array = vulns['exploitable'].value_counts().values\n",
    "values = [value / sum(values_array) * 100 for value in values_array]\n",
    "\n",
    "ax.bar(['Not exploitable', 'Exploitable'], values)\n",
    "ax.set_ylabel(\"Proportion (%)\", size = 12)\n",
    "ax.set_title(\"Exploitable Distribution\", size=14)\n",
    "\n",
    "plt.show()"
   ]
  },
  {
   "cell_type": "markdown",
   "id": "6b977835",
   "metadata": {},
   "source": [
    "## Updatable"
   ]
  },
  {
   "cell_type": "code",
   "execution_count": null,
   "id": "8cccbf6e",
   "metadata": {},
   "outputs": [],
   "source": [
    "fig, ax = plt.subplots(figsize=(12, 4))\n",
    "\n",
    "values_array = vulns['update_available'].value_counts().values\n",
    "values = [value / sum(values_array) * 100 for value in values_array]\n",
    "\n",
    "ax.bar(['Update unavailable', 'Update available'], values)\n",
    "ax.set_ylabel(\"Proportion (%)\", size = 12)\n",
    "ax.set_title(\"Updatable CVEs Distribution\", size=14)\n",
    "\n",
    "plt.show()"
   ]
  },
  {
   "cell_type": "markdown",
   "id": "e9b2dddc",
   "metadata": {},
   "source": [
    "## EPSS"
   ]
  },
  {
   "cell_type": "code",
   "execution_count": null,
   "id": "89df1eeb",
   "metadata": {},
   "outputs": [],
   "source": [
    "columns = [\n",
    "    'cve_id', 'cve_published_date', 'base_score', \n",
    "    'confidentiality_impact', 'integrity_impact', \n",
    "    'availability_impact', 'exploit_count', 'epss']\n",
    "vulns.sort_values(by='epss', ascending=False)[columns].head(10)"
   ]
  },
  {
   "cell_type": "markdown",
   "id": "96484f0f",
   "metadata": {},
   "source": [
    "## Attack type distribution"
   ]
  },
  {
   "cell_type": "code",
   "execution_count": null,
   "id": "34b3e747",
   "metadata": {},
   "outputs": [],
   "source": [
    "fig, ax = plt.subplots(figsize = (14,4))\n",
    "\n",
    "attacks = vulns.loc[~vulns['attack_type'].isnull()]\n",
    "attacks['attack_type'] = attacks['attack_type'].apply(eval)\n",
    "\n",
    "attack_counts = to_1D(attacks['attack_type']).value_counts()[:10]\n",
    "attacks = [round(value / sum(attack_counts) * 100) for value in attack_counts]\n",
    "\n",
    "ax.bar(attack_counts.index, attacks)\n",
    "\n",
    "ax.set_ylabel(\"Proportion (%)\", size = 12)\n",
    "ax.set_title(\"Attack Types Distribution\", size=14)\n",
    "\n",
    "plt.xticks(rotation=45)\n",
    "plt.show()"
   ]
  },
  {
   "cell_type": "markdown",
   "id": "877050b4",
   "metadata": {},
   "source": [
    "## Audience"
   ]
  },
  {
   "cell_type": "code",
   "execution_count": null,
   "id": "b0a87123",
   "metadata": {},
   "outputs": [],
   "source": [
    "audience = vulns.loc[~vulns['audience'].isnull()].sort_values(by='audience', ascending=False)\n",
    "audience.head(10)[['cve_id', 'base_score', 'exploit_count', 'audience']]"
   ]
  },
  {
   "cell_type": "markdown",
   "id": "99438044",
   "metadata": {},
   "source": [
    "## Google Trends"
   ]
  },
  {
   "cell_type": "code",
   "execution_count": null,
   "id": "28425c1f",
   "metadata": {},
   "outputs": [],
   "source": [
    "trends = vulns.loc[~vulns['google_interest'].isnull()].sort_values(by='google_interest', ascending=False)\n",
    "trends.head(10)[['cve_id', 'base_score', 'exploit_count', 'google_trend', 'google_interest', 'epss']]"
   ]
  },
  {
   "cell_type": "markdown",
   "id": "88a6a485",
   "metadata": {},
   "source": [
    "## Topology"
   ]
  },
  {
   "cell_type": "code",
   "execution_count": null,
   "id": "802f7186",
   "metadata": {},
   "outputs": [],
   "source": [
    "fig, ax = plt.subplots(figsize=(12, 4))\n",
    "\n",
    "value_counts = vulns['topology'].value_counts()\n",
    "values = [value / sum(values_array) * 100 for value in value_counts.values]\n",
    "\n",
    "ax.bar(value_counts.index, values)\n",
    "ax.set_ylabel(\"Proportion (%)\", size = 12)\n",
    "ax.set_title(\"Topology Distribution\", size=14)\n",
    "\n",
    "plt.show()"
   ]
  },
  {
   "cell_type": "markdown",
   "id": "f7ae5e82",
   "metadata": {},
   "source": [
    "## Type"
   ]
  },
  {
   "cell_type": "code",
   "execution_count": null,
   "id": "f47192bc",
   "metadata": {},
   "outputs": [],
   "source": [
    "fig, ax = plt.subplots(figsize=(12, 4))\n",
    "\n",
    "value_counts = vulns['asset_type'].value_counts()\n",
    "values = [value / sum(values_array) * 100 for value in value_counts.values]\n",
    "\n",
    "ax.bar(value_counts.index, values)\n",
    "ax.set_ylabel(\"Proportion (%)\", size = 12)\n",
    "ax.set_title(\"Type Distribution\", size=14)\n",
    "\n",
    "plt.show()"
   ]
  },
  {
   "cell_type": "markdown",
   "id": "599d75d9",
   "metadata": {},
   "source": [
    "## Environment"
   ]
  },
  {
   "cell_type": "code",
   "execution_count": null,
   "id": "d10200ad",
   "metadata": {},
   "outputs": [],
   "source": [
    "fig, ax = plt.subplots(figsize=(12, 4))\n",
    "\n",
    "value_counts = vulns['environment'].value_counts()\n",
    "values = [value / sum(values_array) * 100 for value in value_counts.values]\n",
    "\n",
    "ax.bar(value_counts.index, values)\n",
    "ax.set_ylabel(\"Proportion (%)\", size = 12)\n",
    "ax.set_title(\"Environment Distribution\", size=14)\n",
    "\n",
    "plt.show()"
   ]
  },
  {
   "cell_type": "markdown",
   "id": "95ca685b",
   "metadata": {},
   "source": [
    "## Data"
   ]
  },
  {
   "cell_type": "code",
   "execution_count": null,
   "id": "374b2181",
   "metadata": {},
   "outputs": [],
   "source": [
    "fig, ax = plt.subplots(figsize=(12, 4))\n",
    "\n",
    "value_counts = vulns['sensitive_data'].value_counts()\n",
    "values = [value / sum(values_array) * 100 for value in value_counts.values]\n",
    "\n",
    "ax.bar(value_counts.index, values)\n",
    "ax.set_ylabel(\"Proportion (%)\", size = 12)\n",
    "ax.set_title(\"Data Distribution\", size=14)\n",
    "\n",
    "plt.show()"
   ]
  },
  {
   "cell_type": "markdown",
   "id": "f4b42194",
   "metadata": {},
   "source": [
    "## End-of-Life"
   ]
  },
  {
   "cell_type": "code",
   "execution_count": null,
   "id": "25cfc758",
   "metadata": {},
   "outputs": [],
   "source": [
    "fig, ax = plt.subplots(figsize=(12, 4))\n",
    "\n",
    "value_counts = vulns['end_of_life'].value_counts().rename(index={0: 'False', 1: 'True'})\n",
    "values = [value / sum(values_array) * 100 for value in value_counts.values]\n",
    "\n",
    "ax.bar(value_counts.index, values)\n",
    "ax.set_ylabel(\"Proportion (%)\", size = 12)\n",
    "ax.set_title(\"End-of-Life Distribution\", size=14)\n",
    "\n",
    "plt.show()"
   ]
  },
  {
   "cell_type": "markdown",
   "id": "b3e3afea",
   "metadata": {},
   "source": [
    "## Honeypot"
   ]
  },
  {
   "cell_type": "code",
   "execution_count": null,
   "id": "3a092d67",
   "metadata": {},
   "outputs": [],
   "source": [
    "fig, ax = plt.subplots(figsize=(12, 4))\n",
    "\n",
    "value_counts = vulns['honeypot'].value_counts().rename(index={0: 'False', 1: 'True'})\n",
    "values = [value / sum(values_array) * 100 for value in value_counts.values]\n",
    "\n",
    "ax.bar(value_counts.index, values)\n",
    "ax.set_ylabel(\"Proportion (%)\", size = 12)\n",
    "ax.set_title(\"Honeypot Distribution\", size=14)\n",
    "\n",
    "plt.show()"
   ]
  },
  {
   "cell_type": "markdown",
   "id": "255e8795",
   "metadata": {},
   "source": [
    "## Labelling Test"
   ]
  },
  {
   "cell_type": "code",
   "execution_count": null,
   "id": "84c04417",
   "metadata": {},
   "outputs": [],
   "source": [
    "total = vulns.shape[0]"
   ]
  },
  {
   "cell_type": "code",
   "execution_count": null,
   "id": "de5a72cd",
   "metadata": {},
   "outputs": [],
   "source": [
    "critical = vulns.loc[\n",
    "    (vulns['base_score'] >= 7.0) &\n",
    "    (\n",
    "        (vulns['confidentiality_impact'] == 'HIGH') & \n",
    "        (vulns['integrity_impact'] == 'HIGH') & \n",
    "        (vulns['availability_impact'] == 'HIGH')\n",
    "    ) &\n",
    "    (\n",
    "        (vulns['mitre_top_25'] == 1) | (vulns['owasp_top_10'] == 1)\n",
    "    ) &\n",
    "    (\n",
    "        (vulns['exploit_count'] > 0) | (~vulns['audience'].isnull()) | (vulns['epss'] >= 0.9)\n",
    "    )\n",
    "]\n",
    "\n",
    "vulns = vulns.loc[~vulns['cve_id'].isin(critical['cve_id'])]\n",
    "\n",
    "print(f'critical correspond to {critical.shape[0] / total:.3f}% do total, which are {critical.shape[0]} vulns.')"
   ]
  },
  {
   "cell_type": "code",
   "execution_count": null,
   "id": "d160f5bd",
   "metadata": {},
   "outputs": [],
   "source": [
    "moderate = vulns.loc[\n",
    "    (vulns['base_score'] >= 7.0) &\n",
    "    (\n",
    "        ((vulns['confidentiality_impact'] == 'HIGH') | (vulns['confidentiality_impact'] == 'LOW')) & \n",
    "        ((vulns['integrity_impact'] == 'HIGH') | (vulns['integrity_impact'] == 'LOW')) &\n",
    "        ((vulns['availability_impact'] == 'HIGH') | (vulns['availability_impact'] == 'LOW'))\n",
    "    ) &\n",
    "    (\n",
    "        (vulns['mitre_top_25'] == 1) | (vulns['owasp_top_10'] == 1)\n",
    "    )\n",
    "]\n",
    "\n",
    "vulns = vulns.loc[~vulns['cve_id'].isin(moderate['cve_id'])]\n",
    "\n",
    "print(f'moderate correspond to {moderate.shape[0] / total:.3f}% do total, which are {moderate.shape[0]} vulns.')"
   ]
  },
  {
   "cell_type": "code",
   "execution_count": null,
   "id": "7f8b194b",
   "metadata": {},
   "outputs": [],
   "source": [
    "important = vulns\n",
    "\n",
    "print(f'important correspond to {important.shape[0] / total:.3f}% do total, which ar {important.shape[0]} vulns.')"
   ]
  },
  {
   "cell_type": "code",
   "execution_count": null,
   "id": "bc2d6248",
   "metadata": {},
   "outputs": [],
   "source": [
    "fig, ax = plt.subplots(figsize=(6, 4))\n",
    "\n",
    "values = [important.shape[0], moderate.shape[0], critical.shape[0]]\n",
    "values = [ value / total for value in values ]\n",
    "\n",
    "labels = ['MODERATE', 'IMPORTANT', 'CRITICAL']\n",
    "\n",
    "colors = ['yellow', 'orange', 'red']\n",
    "\n",
    "ax.bar(labels, values, color=colors)\n",
    "ax.set_ylabel('Percentage (%)')\n",
    "ax.set_xlabel('Labels')\n",
    "\n",
    "plt.show()"
   ]
  }
 ],
 "metadata": {
  "kernelspec": {
   "display_name": "Python 3 (ipykernel)",
   "language": "python",
   "name": "python3"
  },
  "language_info": {
   "codemirror_mode": {
    "name": "ipython",
    "version": 3
   },
   "file_extension": ".py",
   "mimetype": "text/x-python",
   "name": "python",
   "nbconvert_exporter": "python",
   "pygments_lexer": "ipython3",
   "version": "3.8.10"
  }
 },
 "nbformat": 4,
 "nbformat_minor": 5
}
